{
 "cells": [
  {
   "cell_type": "code",
   "execution_count": null,
   "metadata": {},
   "outputs": [],
   "source": [
    "from urllib.parse import urlparse, urldefrag\n",
    "import requests\n",
    "from bs4 import BeautifulSoup\n",
    "from selenium import webdriver\n",
    "import json"
   ]
  },
  {
   "cell_type": "code",
   "execution_count": 8,
   "metadata": {},
   "outputs": [
    {
     "name": "stdout",
     "output_type": "stream",
     "text": [
      "115\n"
     ]
    }
   ],
   "source": [
    "urls = set()\n",
    "\n",
    "## Read a LOG file that was generated using the below code in the browser\n",
    "# n=$$('a');for(u in n)console.log(n[u].href)\n",
    "# Clean each line and extract the defragmented URL\n",
    "with open('msrit.edu-1679487368740.log', 'r') as file:\n",
    "    for line in file:\n",
    "        # perform operation on each line\n",
    "        url = line.strip().split('VM75:1 ')\n",
    "        if len(url) > 1:\n",
    "            urls.add(urldefrag(url[1])[0])\n",
    "print(len(urls))\n"
   ]
  },
  {
   "cell_type": "code",
   "execution_count": 64,
   "metadata": {},
   "outputs": [
    {
     "name": "stdout",
     "output_type": "stream",
     "text": [
      "74\n",
      "41\n"
     ]
    }
   ],
   "source": [
    "msrit_urls = []\n",
    "external_urls = []\n",
    "for url in urls:\n",
    "    if url.endswith(\"/\") or url.endswith(\".html\"):\n",
    "        msrit_urls.append(url)\n",
    "    else:\n",
    "        external_urls.append(url)\n",
    "print(len(msrit_urls))\n",
    "print(len(external_urls))\n"
   ]
  },
  {
   "cell_type": "code",
   "execution_count": 10,
   "metadata": {},
   "outputs": [
    {
     "name": "stdout",
     "output_type": "stream",
     "text": [
      "0\n"
     ]
    }
   ],
   "source": [
    "faculty_urls = []\n",
    "for url in msrit_urls:\n",
    "    if 'faculty-detail' in url:\n",
    "        faculty_urls.append(url)\n",
    "print(len(faculty_urls))"
   ]
  },
  {
   "cell_type": "code",
   "execution_count": 52,
   "metadata": {},
   "outputs": [
    {
     "name": "stdout",
     "output_type": "stream",
     "text": [
      "['maths', 'cse', 'te', 'physics', 'civil-engineering', 'mca', 'chemical-engineering', 'architecture', 'humanities', 'cse_cs', 'iem', 'certificate-programs', 'ai_ml', 'int-411', 'ai_ds', 'mba', 'ece', 'eie', 'cse_ai_ml', 'ise', 'biotechnology', 'eee', 'medical-engineering', 'me', 'chemistry']\n"
     ]
    }
   ],
   "source": [
    "department_code = []\n",
    "for url in msrit_urls:\n",
    "    if 'department' in url:\n",
    "        department_code.append( url.split('/')[-1].split('.html')[0])\n",
    "print(department_code)"
   ]
  },
  {
   "cell_type": "code",
   "execution_count": 60,
   "metadata": {},
   "outputs": [
    {
     "name": "stdout",
     "output_type": "stream",
     "text": [
      "maths 23\n",
      "cse 29\n",
      "te 12\n",
      "physics 11\n",
      "civil-engineering 29\n",
      "mca 11\n",
      "chemical-engineering 12\n",
      "architecture 34\n",
      "humanities 8\n",
      "cse_cs 4\n",
      "iem 13\n",
      "certificate-programs 0\n",
      "ai_ml 3\n",
      "int-411 0\n",
      "ai_ds 3\n",
      "mba 13\n",
      "ece 31\n",
      "eie 11\n",
      "cse_ai_ml 3\n",
      "ise 27\n",
      "biotechnology 16\n",
      "eee 18\n",
      "medical-engineering 10\n",
      "me 39\n",
      "chemistry 10\n"
     ]
    }
   ],
   "source": [
    "## Visit each department's faculty page in a browser and extract the faculty URLs\n",
    "## We use Selenium to automate the process\n",
    "\n",
    "driver = webdriver.Chrome()\n",
    "\n",
    "faculty_urls = {}\n",
    "for department in department_code:\n",
    "    faculty_urls[department] = set()\n",
    "    dep_url = 'https://msrit.edu/department/faculty.html?dept='+department+'.html'\n",
    "    driver.get(dep_url)\n",
    "    page_html = driver.page_source\n",
    "    soup = BeautifulSoup(page_html, 'html.parser')\n",
    "    for link in soup.find_all('a'):\n",
    "        if link.get('href') is None:\n",
    "            continue\n",
    "        if 'faculty-detail' in link.get('href'):\n",
    "            faculty_urls[department].add(\n",
    "                \"https://msrit.edu/department/\" + link.get('href'))\n",
    "    print(department, len(faculty_urls[department]))\n",
    "\n",
    "driver.quit()\n"
   ]
  },
  {
   "cell_type": "code",
   "execution_count": 61,
   "metadata": {},
   "outputs": [],
   "source": [
    "# convert set to list for each department in faculty_urls\n",
    "for department in faculty_urls:\n",
    "    faculty_urls[department] = sorted(list(faculty_urls[department]))\n",
    "\n",
    "# save faculty urls to json file\n",
    "with open('faculty_urls.json', 'w') as file:\n",
    "    json.dump(faculty_urls, file)\n"
   ]
  },
  {
   "cell_type": "code",
   "execution_count": 63,
   "metadata": {},
   "outputs": [],
   "source": [
    "# save msrit_urls to json file\n",
    "with open('msrit_urls.json', 'w') as file:\n",
    "    json.dump(msrit_urls, file)\n"
   ]
  },
  {
   "cell_type": "code",
   "execution_count": 65,
   "metadata": {},
   "outputs": [],
   "source": [
    "# save external_urls to json file\n",
    "with open('external_urls.json', 'w') as file:\n",
    "    json.dump(external_urls, file)"
   ]
  },
  {
   "cell_type": "code",
   "execution_count": null,
   "metadata": {},
   "outputs": [],
   "source": []
  },
  {
   "cell_type": "markdown",
   "metadata": {},
   "source": [
    "Our Dataset now comprises URLs of \n",
    "\n",
    "- 370 Faculty Pages\n",
    "- 1208 Files (Documents, PDFs, Brochures)\n",
    "- 75 Subpages from msrit.edu"
   ]
  }
 ],
 "metadata": {
  "kernelspec": {
   "display_name": "Python 3.7.9 64-bit (microsoft store)",
   "language": "python",
   "name": "python3"
  },
  "language_info": {
   "codemirror_mode": {
    "name": "ipython",
    "version": 3
   },
   "file_extension": ".py",
   "mimetype": "text/x-python",
   "name": "python",
   "nbconvert_exporter": "python",
   "pygments_lexer": "ipython3",
   "version": "3.7.9"
  },
  "orig_nbformat": 4,
  "vscode": {
   "interpreter": {
    "hash": "128564bf3a7dfda00672dec98edbb008ae3f7425e377bbd96729b674f0780a91"
   }
  }
 },
 "nbformat": 4,
 "nbformat_minor": 2
}
